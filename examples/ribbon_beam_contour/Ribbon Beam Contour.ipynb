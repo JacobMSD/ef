{
 "cells": [
  {
   "cell_type": "markdown",
   "metadata": {},
   "source": [
    "## Trajectory equations:"
   ]
  },
  {
   "cell_type": "code",
   "execution_count": 3,
   "metadata": {
    "collapsed": true
   },
   "outputs": [],
   "source": [
    "%matplotlib inline\n",
    "import matplotlib.pyplot as plt\n",
    "\n",
    "from sympy import *\n",
    "init_printing()\n",
    "\n",
    "Ex, Ey, Ez = symbols(\"E_x, E_y, E_z\")\n",
    "x, y, z = symbols(\"x, y, z\")\n",
    "vx, vy, vz, v = symbols(\"v_x, v_y, v_z, v\")\n",
    "t = symbols(\"t\")\n",
    "q, m = symbols(\"q, m\")\n",
    "c, eps0 = symbols(\"c, epsilon_0\")"
   ]
  },
  {
   "cell_type": "markdown",
   "metadata": {},
   "source": [
    "The equation of motion:\n",
    "$$\n",
    "\\begin{gather*}\n",
    "  m \\frac{d^2 \\vec{r} }{dt^2} = \n",
    "  q \\vec{E} + \\frac{q}{c} [ \\vec{v} \\vec{B} ] \n",
    "\\end{gather*}\n",
    "$$"
   ]
  },
  {
   "cell_type": "markdown",
   "metadata": {},
   "source": [
    "In abscence of magnetic field in Cortesian coordinates :"
   ]
  },
  {
   "cell_type": "code",
   "execution_count": 6,
   "metadata": {},
   "outputs": [
    {
     "data": {
      "image/png": "[encoded data removed]",
      "text/latex": [
       "$$\\frac{d^{2}}{d t^{2}}  x{\\left (t \\right )} = \\frac{E_{x} q}{m}$$"
      ],
      "text/plain": [
       "  2             \n",
       " d          Eₓ⋅q\n",
       "───(x(t)) = ────\n",
       "  2          m  \n",
       "dt              "
      ]
     },
     "metadata": {},
     "output_type": "display_data"
    },
    {
     "data": {
      "image/png": "[encoded data removed]",
      "text/latex": [
       "$$\\frac{d^{2}}{d t^{2}}  y{\\left (t \\right )} = \\frac{E_{y} q}{m}$$"
      ],
      "text/plain": [
       "  2              \n",
       " d          E_y⋅q\n",
       "───(y(t)) = ─────\n",
       "  2           m  \n",
       "dt               "
      ]
     },
     "metadata": {},
     "output_type": "display_data"
    },
    {
     "data": {
      "image/png": "[encoded data removed]",
      "text/latex": [
       "$$\\frac{d^{2}}{d t^{2}}  z{\\left (t \\right )} = \\frac{E_{z} q}{m}$$"
      ],
      "text/plain": [
       "  2              \n",
       " d          E_z⋅q\n",
       "───(z(t)) = ─────\n",
       "  2           m  \n",
       "dt               "
      ]
     },
     "metadata": {},
     "output_type": "display_data"
    }
   ],
   "source": [
    "eq_x = Eq( diff(x(t), t, 2), q / m * Ex )\n",
    "eq_y = Eq( diff(y(t), t, 2), q / m * Ey )\n",
    "eq_z = Eq( diff(z(t), t, 2), q / m * Ez )\n",
    "display( eq_x, eq_y, eq_z )"
   ]
  },
  {
   "cell_type": "markdown",
   "metadata": {},
   "source": [
    "Assuming $E_z = 0$ and $E_y = 0$: "
   ]
  },
  {
   "cell_type": "code",
   "execution_count": 7,
   "metadata": {},
   "outputs": [
    {
     "data": {
      "image/png": "[encoded data removed]",
      "text/latex": [
       "$$\\frac{d^{2}}{d t^{2}}  x{\\left (t \\right )} = \\frac{E_{x} q}{m}$$"
      ],
      "text/plain": [
       "  2             \n",
       " d          Eₓ⋅q\n",
       "───(x(t)) = ────\n",
       "  2          m  \n",
       "dt              "
      ]
     },
     "metadata": {},
     "output_type": "display_data"
    },
    {
     "data": {
      "image/png": "[encoded data removed]",
      "text/latex": [
       "$$\\frac{d^{2}}{d t^{2}}  y{\\left (t \\right )} = 0$$"
      ],
      "text/plain": [
       "  2          \n",
       " d           \n",
       "───(y(t)) = 0\n",
       "  2          \n",
       "dt           "
      ]
     },
     "metadata": {},
     "output_type": "display_data"
    },
    {
     "data": {
      "image/png": "[encoded data removed]",
      "text/latex": [
       "$$\\frac{d^{2}}{d t^{2}}  z{\\left (t \\right )} = 0$$"
      ],
      "text/plain": [
       "  2          \n",
       " d           \n",
       "───(z(t)) = 0\n",
       "  2          \n",
       "dt           "
      ]
     },
     "metadata": {},
     "output_type": "display_data"
    }
   ],
   "source": [
    "zero_EyEz_subs = [ (Ey, 0), (Ez, 0) ]\n",
    "eq_x = eq_x.subs(zero_EyEz_subs)\n",
    "eq_y = eq_y.subs(zero_EyEz_subs)\n",
    "eq_z = eq_z.subs(zero_EyEz_subs)\n",
    "display( eq_x, eq_y, eq_z )"
   ]
  },
  {
   "cell_type": "markdown",
   "metadata": {},
   "source": [
    "Motion is uniform along the $z$-axis:"
   ]
  },
  {
   "cell_type": "code",
   "execution_count": 8,
   "metadata": {},
   "outputs": [
    {
     "data": {
      "image/png": "[encoded data removed]",
      "text/latex": [
       "$$z{\\left (t \\right )} = C_{1} + C_{2} t$$"
      ],
      "text/plain": [
       "z(t) = C₁ + C₂⋅t"
      ]
     },
     "metadata": {},
     "output_type": "display_data"
    },
    {
     "data": {
      "image/png": "[encoded data removed]",
      "text/latex": [
       "$$\\frac{d}{d t} z{\\left (t \\right )} = C_{2}$$"
      ],
      "text/plain": [
       "d            \n",
       "──(z(t)) = C₂\n",
       "dt           "
      ]
     },
     "metadata": {},
     "output_type": "display_data"
    }
   ],
   "source": [
    "z_eq = dsolve( eq_z, z(t) )\n",
    "vz_eq = Eq( z_eq.lhs.diff(t), z_eq.rhs.diff(t) )\n",
    "display( z_eq, vz_eq )"
   ]
  },
  {
   "cell_type": "markdown",
   "metadata": {},
   "source": [
    "The constants of integration can be found from the initial conditions $z(0) = 0$ and $v_z(0) = v$:"
   ]
  },
  {
   "cell_type": "code",
   "execution_count": 9,
   "metadata": {},
   "outputs": [
    {
     "data": {
      "image/png": "[encoded data removed]",
      "text/latex": [
       "$$\\left \\{ C_{1} : 0, \\quad C_{2} : v\\right \\}$$"
      ],
      "text/plain": [
       "{C₁: 0, C₂: v}"
      ]
     },
     "execution_count": 9,
     "metadata": {},
     "output_type": "execute_result"
    }
   ],
   "source": [
    "z_0 = 0\n",
    "v_0 = v\n",
    "c1_c2_system = []\n",
    "initial_cond_subs = [(t, 0), (z(0), z_0), (diff(z(t),t).subs(t,0), v_0) ]\n",
    "c1_c2_system.append( z_eq.subs( initial_cond_subs ) )\n",
    "c1_c2_system.append( vz_eq.subs( initial_cond_subs ) )\n",
    "\n",
    "c1, c2 = symbols(\"C1, C2\")\n",
    "c1_c2 = solve( c1_c2_system, [c1, c2] )\n",
    "c1_c2"
   ]
  },
  {
   "cell_type": "markdown",
   "metadata": {},
   "source": [
    "So that"
   ]
  },
  {
   "cell_type": "code",
   "execution_count": 10,
   "metadata": {},
   "outputs": [
    {
     "data": {
      "image/png": "[encoded data removed]",
      "text/latex": [
       "$$z{\\left (t \\right )} = t v$$"
      ],
      "text/plain": [
       "z(t) = t⋅v"
      ]
     },
     "metadata": {},
     "output_type": "display_data"
    },
    {
     "data": {
      "image/png": "[encoded data removed]",
      "text/latex": [
       "$$\\frac{d}{d t} z{\\left (t \\right )} = v$$"
      ],
      "text/plain": [
       "d           \n",
       "──(z(t)) = v\n",
       "dt          "
      ]
     },
     "metadata": {},
     "output_type": "display_data"
    }
   ],
   "source": [
    "z_sol = z_eq.subs( c1_c2 )\n",
    "vz_sol = vz_eq.subs( c1_c2 )\n",
    "display( z_sol, vz_sol )"
   ]
  },
  {
   "cell_type": "markdown",
   "metadata": {
    "collapsed": true
   },
   "source": [
    "To solve an equation for $x(t)$, it is necessary to determine $E_x$ and substitute it into the equation.\n",
    "\n",
    "From the Gauss theorem:\n",
    "$$\n",
    "\\oint \\vec{E} dv = 4 \\pi \\int \\rho(x,y,z) dv \n",
    "$$\n",
    "\n",
    "$$\n",
    "E_x(x) dy dz = 4 \\pi dy dz \\int_0^x \\rho(x) dx\n",
    "$$\n",
    "\n",
    "Suppose that $\\rho(x) = const = \\rho$. Then:\n",
    "\n",
    "$$\n",
    "E_x(x) = \\begin{cases} \n",
    "  4 \\pi \\rho x, x < x_0 \\mbox{ - inside the beam} \\\\\n",
    "  4 \\pi \\rho x_0, x \\ge x_0 \\mbox{ - outside the beam}\n",
    "  \\end{cases}\n",
    "$$\n"
   ]
  },
  {
   "cell_type": "markdown",
   "metadata": {},
   "source": [
    "Using \n",
    "\n",
    "$$ j = \\rho v $$ \n",
    "\n",
    "and\n",
    "\n",
    "$$ \n",
    "I = j \\cdot \\mbox{width} \\cdot \\mbox{height} = I_0 \\cdot \\mbox{height} \n",
    "\\\\\n",
    "\\mbox{width} = 2 x_0 \\quad \\quad \\mbox{height} = 2 y_0\n",
    "$$\n",
    "\n",
    "where $I_0$ is linear current density along the y-axis, \n",
    "it is possible to rewrite the $E_x$ using the linear current density instead of charge density:\n",
    "\n",
    "$$E_x = \\dfrac{ 2 \\pi I_0 }{v}$$.\n",
    "\n",
    "Substituting it into the equation for $x''$ results in the following equation:"
   ]
  },
  {
   "cell_type": "code",
   "execution_count": 12,
   "metadata": {},
   "outputs": [
    {
     "data": {
      "image/png": "[encoded data removed]",
      "text/latex": [
       "$$\\frac{d^{2}}{d t^{2}}  x{\\left (t \\right )} = \\frac{2 \\pi I_{0} q}{m v}$$"
      ],
      "text/plain": [
       "  2                 \n",
       " d          2⋅π⋅I₀⋅q\n",
       "───(x(t)) = ────────\n",
       "  2           m⋅v   \n",
       "dt                  "
      ]
     },
     "execution_count": 12,
     "metadata": {},
     "output_type": "execute_result"
    }
   ],
   "source": [
    "I0 = symbols('I_0')\n",
    "Ex_subs = [ (Ex, 2 * pi * I0 / v) ]\n",
    "eq_x = eq_x.subs( Ex_subs )\n",
    "eq_x"
   ]
  },
  {
   "cell_type": "markdown",
   "metadata": {},
   "source": [
    "It's solution is given by:"
   ]
  },
  {
   "cell_type": "code",
   "execution_count": 18,
   "metadata": {},
   "outputs": [
    {
     "data": {
      "image/png": "[encoded data removed]",
      "text/latex": [
       "$$x{\\left (t \\right )} = C_{1} + C_{2} t + \\frac{\\pi I_{0} q t^{2}}{m v}$$"
      ],
      "text/plain": [
       "                           2\n",
       "                   π⋅I₀⋅q⋅t \n",
       "x(t) = C₁ + C₂⋅t + ─────────\n",
       "                      m⋅v   "
      ]
     },
     "execution_count": 18,
     "metadata": {},
     "output_type": "execute_result"
    }
   ],
   "source": [
    "x_eqn_sol = dsolve( eq_x )\n",
    "x_eqn_sol"
   ]
  },
  {
   "cell_type": "markdown",
   "metadata": {},
   "source": [
    "From initial conditions $x(0) = x_0, v_0 = 0$:"
   ]
  },
  {
   "cell_type": "code",
   "execution_count": 19,
   "metadata": {},
   "outputs": [
    {
     "data": {
      "image/png": "[encoded data removed]",
      "text/latex": [
       "$$\\left \\{ C_{1} : x_{0}, \\quad C_{2} : 0\\right \\}$$"
      ],
      "text/plain": [
       "{C₁: x₀, C₂: 0}"
      ]
     },
     "execution_count": 19,
     "metadata": {},
     "output_type": "execute_result"
    }
   ],
   "source": [
    "x_0 = symbols( 'x_0' )\n",
    "v_0 = 0\n",
    "c1_c2_system = []\n",
    "initial_cond_subs = [(t, 0), (x(0), x_0), (diff(x(t),t).subs(t,0), v_0) ]\n",
    "c1_c2_system.append( x_eqn_sol.subs( initial_cond_subs ) )\n",
    "\n",
    "x_eqn_sol_diff = Eq( x_eqn_sol.lhs.diff(t), x_eqn_sol.rhs.diff(t) )\n",
    "c1_c2_system.append( x_eqn_sol_diff.subs( initial_cond_subs ) )\n",
    "\n",
    "c1, c2 = symbols(\"C1, C2\")\n",
    "c1_c2 = solve( c1_c2_system, [c1, c2] )\n",
    "c1_c2"
   ]
  },
  {
   "cell_type": "markdown",
   "metadata": {},
   "source": [
    "So that"
   ]
  },
  {
   "cell_type": "code",
   "execution_count": 20,
   "metadata": {},
   "outputs": [
    {
     "data": {
      "image/png": "[encoded data removed]",
      "text/latex": [
       "$$x{\\left (t \\right )} = \\frac{\\pi I_{0} q t^{2}}{m v} + x_{0}$$"
      ],
      "text/plain": [
       "               2     \n",
       "       π⋅I₀⋅q⋅t      \n",
       "x(t) = ───────── + x₀\n",
       "          m⋅v        "
      ]
     },
     "execution_count": 20,
     "metadata": {},
     "output_type": "execute_result"
    }
   ],
   "source": [
    "x_sol = x_eqn_sol.subs( c1_c2 )\n",
    "x_sol"
   ]
  },
  {
   "cell_type": "markdown",
   "metadata": {},
   "source": [
    "From the laws of motion for $x(t)$ and $z(t)$"
   ]
  },
  {
   "cell_type": "code",
   "execution_count": 21,
   "metadata": {},
   "outputs": [
    {
     "data": {
      "image/png": "[encoded data removed]",
      "text/latex": [
       "$$x{\\left (t \\right )} = \\frac{\\pi I_{0} q t^{2}}{m v} + x_{0}$$"
      ],
      "text/plain": [
       "               2     \n",
       "       π⋅I₀⋅q⋅t      \n",
       "x(t) = ───────── + x₀\n",
       "          m⋅v        "
      ]
     },
     "metadata": {},
     "output_type": "display_data"
    },
    {
     "data": {
      "image/png": "[encoded data removed]",
      "text/latex": [
       "$$z{\\left (t \\right )} = t v$$"
      ],
      "text/plain": [
       "z(t) = t⋅v"
      ]
     },
     "metadata": {},
     "output_type": "display_data"
    }
   ],
   "source": [
    "display( x_sol, z_sol )"
   ]
  },
  {
   "cell_type": "markdown",
   "metadata": {},
   "source": [
    "it is possible to obtain a trajectory equation:"
   ]
  },
  {
   "cell_type": "code",
   "execution_count": 23,
   "metadata": {},
   "outputs": [
    {
     "data": {
      "image/png": "[encoded data removed]",
      "text/latex": [
       "$$x{\\left (z \\right )} = \\frac{\\pi I_{0} q z^{2}}{m v^{3}} + x_{0}$$"
      ],
      "text/plain": [
       "               2     \n",
       "       π⋅I₀⋅q⋅z      \n",
       "x(z) = ───────── + x₀\n",
       "             3       \n",
       "          m⋅v        "
      ]
     },
     "metadata": {},
     "output_type": "display_data"
    }
   ],
   "source": [
    "t_from_z = solve( z_sol.subs(z(t),z), t )[0]\n",
    "x_z_traj = Eq( x_sol.lhs.subs( t, z ), x_sol.rhs.subs( [(t, t_from_z)] ) )\n",
    "display( x_z_traj )"
   ]
  },
  {
   "cell_type": "code",
   "execution_count": null,
   "metadata": {
    "collapsed": true
   },
   "outputs": [],
   "source": []
  }
 ],
 "metadata": {
  "kernelspec": {
   "display_name": "Python 3",
   "language": "python",
   "name": "python3"
  },
  "language_info": {
   "codemirror_mode": {
    "name": "ipython",
    "version": 3
   },
   "file_extension": ".py",
   "mimetype": "text/x-python",
   "name": "python",
   "nbconvert_exporter": "python",
   "pygments_lexer": "ipython3",
   "version": "3.4.2"
  }
 },
 "nbformat": 4,
 "nbformat_minor": 2
}
